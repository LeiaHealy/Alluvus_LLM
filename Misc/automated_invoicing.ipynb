{
 "cells": [
  {
   "cell_type": "code",
   "execution_count": 1,
   "metadata": {},
   "outputs": [],
   "source": [
    "import pandas as pd\n",
    "import numpy as np\n",
    "import openai\n",
    "import json\n",
    "import os\n",
    "import requests\n",
    "from dotenv import load_dotenv\n",
    "from invoice_funcs import load_extract_invoice\n",
    "load_dotenv()\n",
    "openai.api_key=os.getenv(\"OPENAI_API_KEY\")"
   ]
  },
  {
   "cell_type": "markdown",
   "metadata": {},
   "source": [
    "### Load Invoices and Group-By Month "
   ]
  },
  {
   "cell_type": "code",
   "execution_count": 15,
   "metadata": {},
   "outputs": [
    {
     "data": {
      "text/plain": [
       "Date            object\n",
       "Notes           object\n",
       "Concatenated    object\n",
       "dtype: object"
      ]
     },
     "execution_count": 15,
     "metadata": {},
     "output_type": "execute_result"
    }
   ],
   "source": [
    "df, concat_str = load_extract_invoice(\"Total Harvest Data - Alluvus.xlsx\")"
   ]
  },
  {
   "cell_type": "code",
   "execution_count": 23,
   "metadata": {},
   "outputs": [
    {
     "data": {
      "text/plain": [
       "\"01-03 Finish required cyber security training\\n01-03 ODEI enterprise wide strategy presentation; Connie and Trill discussion re: PPT and next steps.\\n01-03 Connie convo re: ODEI EOY report and all things ODEI - see notes.\\n01-04 Annual report discussion and misc. ODEI with Connie.\\n01-04 Golden Flexx update and schedule review with MR.\\n01-05 Followups on metric reporting from Mirror/Mirror-Allure engagement with Conde Nast team\\n01-05 Weekly touch base with team to review KPI tracking; next steps to close out 2022 and move into 2023 draft\\n01-05 KPI tracking meeting\\n01-05 ODEI L-Team meeting day; see notes and ongoing review thru the day with team.\\n01-05 Review ODEI KPIs from team and organize with focus on year-end report; calendar review and direction to Connie N.\\n01-06 ODEI L-team meeting re: KPIs and alignment; follow up meeting with CN.\\n01-06 HPQC presentation and CES social inputs from CY.\\n01-06 ODEI annual report correspondence review and follow up.\\n01-06 AIW meeting with AW and Naomi; review recco memo.\\n01-06 Greg and Charlia meeting re: internal engagement and Infonet; prep and attend and review materials.\\n01-09 Followups on outstanding items for GQ - Golden Flex project\\n01-09 Review and refine ODEI KPI document with final metrics from Geben\\n01-09 ODEI annual report meeting with CN; see notes and begin to think about project.\\n01-09 AW follow up re: AIW next steps in front of her departure; revisit teams directory and LMS history.\\n01-09 KPI presentation updates and send to Connie N.\\n01-10 Resurface agenda items for weekly touch base with Kchong; weekly meeting with focus on priority items for week\\n01-10 Weekly KC meeting; see notes; prep and follow up with KC.\\n01-11 Review and update GQ-Golden Flex project timeline; review Scott F. video question feedback and return edits; followups across GQ team\\n01-11 Followups on GQ planning for Jan 12 video shoot with Rick Fox\\n01-11 ODEI annual report day at AARP; also review KPI and EWS decks with Connie; see notes from the day.\\n01-11 AW email re: ASI LMS RFP and alignment with 2023 efforts.\\n01-12 Audit Rick Fox recording with GQ for Golden Flex\\n01-12 ODEI annual report follow up with CN - on-site at AARP.\\n01-12 KPI and EWS presentation meeting with CN at AARP.\\n01-12 IWF event; review input from CN and begin to think abou TPs.\\n01-13 Circulate notes and next steps coming out of Rick Fox shoot for GQ-Golden Flex.\\n01-13 Connie and EKW meeting - see notes.\\n01-13 KPI deck review with ODEI L-Team; see ntoes.\\n01-13 Rick Fox recording notes review from MR.\\n01-16 ODEI EW presentation.\\n01-16 KPIs document; proof and send.\\n01-17 Checkins on GQ-Golden Flex status on brand guide materials and headshot for Scott\\n01-17 Apply edits to GQ-Golden Flex project timeline from AARP team\\n01-17 Update project timeline for GQ-Conde Nast\\n01-17 ODEI EOY report with RH and Connie; kick off and begin word count and bookmap.\\n01-17 KPI follow up with Connie; edits and follow up.\\n01-18 MM 2022/2023 data kick off and review with Interloq and AARP R team.\\n01-18 EKW events with Connie and 1/23 event brief; talk with Mendy re: scheduling.\\n01-18 EWS presentation discussion with Connie.\\n01-18 EOY follow up with RH and Connie.\\n01-18 MOU review for The Hartford; send note to KC.\\n01-19 Atlantic Dec. report; Flex update and MM 2022 data follow up review with MR and DR.\\n01-19 Work to resolve 2022 KPI tracking table; clarify final Allure-Mirror/Mirror data; Touch base with team to discuss finals for Mirror/Mirror influencer campaign and alignment for future projects in 2023.\\n01-19 Weekly Golden Flex touch base to review initial Green Buzz videos for feedback and next steps to finalize\\n01-19 KC weekly - see notes; prep and attend and debrief with MR.\\n01-19 IWF 1/23 event brief; review supporting resources and build document.\\n01-19 KC and Carly phone call re: LMS experience and alignment across DA and W&J.\\n01-20 IWF event brief; continue to research, incorporate TPs, format and share with Connie.\\n01-20 ODEI EWS deck; ongoing revisions and discuss with Connie N.\\n01-20 C. Nero meeting re: all active tasks; see notes.\\n01-20 ODEI EWS deck review and edits with focus on EWS strategy map and ODEI; DEI Council inputs from Greg M.\\n01-21 Organize ODEI EOY report, KPI and EWS presentations; review AARP strategic plan resources.\\n01-22 ODEI EWS deck; ongoing review of AARP strategic plan and supporting resources; revise and build out presentation.\\n01-23 Ongoing EWS presentation edits and meeting with Connie N.\\n01-23 Post convo edits and return to Connie N.\\n01-23 Updates on Allure Mirror/Mirror final metrics -- pull updates and verify with Conde Nast team to validate.\\n01-24 meeting w/ Jim and M to intro Rapid Response infonet\\n01-24 RR meeting with team; review next steps for RR resource and supporting materials.\\n01-24 Weekly KC meeting; see notes re: 3/22 meeting and begin to develop follow up.\\n01-24 ODEI EWS deck; finalize and send to CN for review and input.\\n01-25 EWS presentation edits; review CN notes and prior presentations and revise and finalize.\\n01-25 ODEI EOY report bookmap and content and Connie meeting.\\n01-25 ODEI EWS presentation with Connie and edits.\\n01-26 weekly Namoi touch base\\n01-26 audit of Office of Volunteer Engagement infonet site\\n01-26 RR meeting with Naomi re: Infonet and next steps for RR resource.\\n01-26 ColorComm prep; review emails and attachments.\\n01-26 ODEI EOY report bookmap and copy to RH; follow up with Connie.\\n01-26 EWS input from Connie; review and next steps for sharing with Keeanne and team.\\n01-27 Erwin Tan research into meeting; status for review and approvals and next steps.\\n01-27 Greg M. RR discussion and next steps for developing; prep and attend meeting.\\n01-27 ColorComm meeting with team.\\n01-27 Annual report meeting with RH; follow up with Connie; review quarterly reports.\\n01-28 DA Strategy C&I and AIW review; March 2022 and forward; organize files and build presentation/memo.\\n01-29 March 2022 summary report; review notes and assemble supports; draft summary memo and send to KC.\\n01-30 Review board meeting notes request; annual report Board notes.\\n01-30 KPIs deck; review.\\n01-31 Istrico follow up re: PGCO facilitator video and transcript; begin review.\\n02-01 On-site meeting to review all things DA with KC and Stacy; follow up with Stacy re: events and Fy2023 activities and follow up with MR; prep and attend and debrief with team.\\n02-01 Planning meeting with Stacie on KPI performance tracking for ODEI and plans for wrap report\\n02-01 Touch base with Karen Chong and Stacie on 2023 plans and goals for engagement for the year\\n02-02 Golden Flex-GQ: organize all materials needed for filming today to send to AARP team.\\n02-02 ODEI annual report; prep for CN meeting; print out docs and head to AARP; meet with CN and revisit copy in the afternoon; begin to think through layout.\\n02-02 EWS and KPI prezos; final edits and share and discuss with Connie.\\n02-02 Snackable CY as model for AARP spokespersons with KC; next steps for the Hartford and scheduling; ecourse next steps for AIW facilitator component.\\n02-02 Audit Golden Flex filming with Scott Frisch at AARP HQ\\n02-02 Touch base with Greg M. and team to review Rapid Response priorities and next steps.\\n02-02 Project meeting with Research team on next steps and support needs for upcoming meetings\\n02-02 After hours client service dinner with Conde Nast reps\\n02-03 KC follow up re: Hartford engagement and LMS platform audit from Q12022.\\n02-03 Greg M. Friday call - see notes; follow up on SEERG video; begin follow up presentation.\\n02-04 ODEI annual report; audit comparable reports; renew TOC and build out initial content.\\n02-06 Work on initial updates to internal reporting deck for Rapid Response; add meeting note document to drive; Schedule team meeting to review\\n02-06 Internal touch base on Rapid Response priorities coming out of Feb 3 meetings\\n02-06 ODEI EOY report; audit comparable reports; build outline and source from docs; update bookmap and send to Connie.\\n02-06 Hartford onboarding; send to KC.\\n02-07 Begin to pull ODEI InfoNet content into table in support of Rapid Response planning\\n02-07 Build sitemap mockup with focus on navigation for Rapid Response project.\\n02-07 ODEI EOY report with CN; prep and meet - see notes and continue to think through copy.\\n02-07 KC weekly meeting; prep and attend.\\n02-07 LMS follow up and review email and links.\\n02-08 Followup exploration on sitemap mockups for Rapid Response\\n02-08 Internal review of Rapid Response updates and next steps planning for 2/9 AARP touch base\\n02-08 MR convo re: rapid response resource and infonet; prep and attend.\\n02-08 ColorComm meeting and meeting overview; review and format and send to CN.\\n02-08 KC weekly meeting digest; review notes and draft and send to KC/MR.\\n02-08 Stacie follow up re: FY2023 content calendar.\\n02-09 Review and track notes of V2 of GQ video\\n02-09 Rapid Response team meeting to review outcomes form InfoNet technical call on 2/8; priorities around navigation opportunities and performance tracking; and review of initial sitemap recommendations. Circulate meeting notes and add powerpoint direction to Teams for AARP review and reference.\\n02-09 Touch base with internal AARP team to consolidate feedback on V2 of Golden Flex - GQ videos; send notes as follow-up for approval.\\n02-09 Weekly touch base with Geben to review questions around final metrics for FY2022 reporting; Discuss updates and timelines around Golden Flex content distribution.\\n02-09 ColorComm annual conf. timelines.\\n02-09 ODEI RR resource prep and attend meeting; follow up with MR.\\n02-10 Touchbase with Karen on goals for support on Diane's project collecting AD stories\\n02-10 Touch base with Chloe and Naomi to review InfoNet analytics updates against Rapid Response goals; Update 2/16 internal report for Greg/Edna project status update with additional detail on analytics capabilities. Distribute for internal Alluvus review.\\n02-10 Carly and Oh meeting re: LMS platforms at AARP and alignment with AIW offering\\n02-10 ODEI EOY report meeting with Connie re: images and next steps.\\n02-10 RR meeting update from MR; next steps for Infonet.\\n02-10 ColorComm attendee list review from team; organize event assets.\\n02-11 ODEI EOY report - copy research and development and draft; ongoing revisions and working draft word count\\n02-12 Ongoing content updates and finalize and send to Connie.\\n02-13 Schedule Rapid Response AARP team check-in against project updates ahead of 2/16 meeting with Edna\\n02-13 ODEI EOY report call with RH team and CN; review content and next steps; continue to audit imagery.\\n02-13 Review Excel engagement timline and update; create meeting agenda and revise as needed.\\n02-14 Hartford agenda revisit and supporting worksheet for Karen Chong\\n02-14 RR deck review and next steps with team.\\n02-14 Rapid Response team touch base on InfoNet Sharepoint Analytics updates with notes and additional slides incorporated into 2/16 update meeting with Edna.\\n02-14 Review latest GQ advertorial and social cuts of Golden Flex content; track against project timeline and provide internal team update and check-ins\\n02-14 Weekly touch base with Karen to review priorities for Age inclusion in the Workplace meeting with the Hartford; LMS post-meeting deliverables; updates on Mirror/Mirror-Allure goals for 2023; status check on Golden Flex content on GQ and GreenBuzz; Circulate most meeting notes/recap\\n02-14 KC weekly; prep and attend and see notes.\\n02-14 Revisit Hartford agenda and timeline of tasks and update and return to KC.\\n02-14 Build 2023 editorial calendar informed by Feb. 1 meeting notes; audit prior calendars and send to Stacie S and KC.\\n02-15 Followups on approvals for v2 assets for GQ; coordination across teams and pending timelines\\n02-15 Kick off meeting with Diane for Age Disc story collection\\n02-15 Hartford kickoff meeting; attend and review notes.\\n02-15 ColorComm - build timeline and participate in team meeting; cut off short due to jury duty.\\n02-15 Discovery call with Diane R. on AD story collection support needs; post-meeting actions items; follow-ups to Karen Chong to secure AARP email for Julia\\n02-15 Touch base with Conde Nast team offline on timeline for approvals on GQ assets\\n02-15 Start work on building AI/AD 2023 calendar in SmartSheet; schedule meeting to review with team next week\\n02-16 RR meetingwith Naomi; infonet review and implications for moving forward.\\n02-16 AIW facilitator digitization follow up with KC; next steps and see notes.\\n02-16 AD ed cal - review in smartsheet and follow up with MR.\\n02-20 ODEI EOY report; copy proof and image audit and send to Connie N.\\n02-21 KPI deck updates from CN; review and incorporate and send to CN.\\n02-21 ODEI follow up with RH.\\n02-21 Hartford table and next steps; prep for weekly with KC and send; outreach to C2 and AARP team.\\n02-22 Hartford email and links to the team.\\n02-22 ODEI annual report - RH layout and copy review and edit informed by layout; email to Connie in follow up.\\n02-22 KC and DR FB and Sweepstakes discussion; prep and attend and review follow up notes.\\n02-22 ODEI annual report; review creative direction and edit copy given layout; send email to CN.\\n02-22 SCORM link email to Naomi and KC for the Hartford.\\n02-23 Reschedule weekly touch base with Naomi\\n02-23 Touch base with Stacie on Golden Flex approval statuses and next steps\\n02-23 KC and Stacy meeting re: content calendar and next steps; prep attend and follow up.\\n02-23 NC discussion re: Hartford materials and review and input on materials.\\n02-24 Weekly touch base with Naomi on priority rapid response items; as well as followups with the Hartford for Age Inclusion in Workplace\\n02-24 Begin work on March 1 deck as followup on Rapid Response work\\n02-24 ODEI EOY report meeting with CN; see notes and next steps for EOY report.\\n02-24 IPR prezo discussion with CN; next steps for development.\\n02-24 RR follow up with Greg M. and team re: EKW inputs and next steps as a result.\\n02-26 Hartford email and materials.\\n02-27 Followup with Naomi around ODEI InfoNet audit file for Rapid Response\\n02-27 Follow-up on final GQ - Golden Flex social feedback from AARP teams\\n02-27 ColorComm follow up and prep.\\n02-27 Hartford materials - email and additional follow up.\\n02-28 Offline review of GQ media package requirements.\\n02-28 Update GQ media plan document and find time to connect with Conde Nast to validate.\\n02-28 Hartford follow up with KC; convo and email with links and revisit marketing materials and send.\\n02-28 ADSI lead meeting; finalize agenda; notes and attend.\\n03-01 Weekly touch base on AD/AI 2023 planning with Stacie Sampson; post-meeting recap to team with focus on setting key dates in SmartSheet and aligning against folder management.\\n03-01 Attend and audit FemAging webinar event with Shani Hosten.\\n03-01 AARP weekly AD/AI touch bases\\n03-01 AD story collection weekly process meeting w/ Diane\\n03-01 Touch base with Conde Nast content to align on media plan reporting\\n03-01 AARP AD sweepstakes meeting; meet with KC, DR and AARP sweepstakes team to review initial direction and opportunity; follow up with Alluvus team coming out of meeting.\\n03-02 EOY report and event convo with Connie N. - prezo direction and report next steps.\\n03-02 ODEI EOY report direction for ODEI L team; build prezo and audit comparable reports.\\n03-03 Touch base on final feedback for GQ video content\\n03-03 ODEI EOY report; meet with RH and Connie; review next steps and discuss imagery and layout; see notes.\\n03-03 ColorComm review and IPR discussion with Connie.\\n03-05 ODEI EOY report - review RH inputs and organize bookmap and response; organize materials and send to team.\\n03-06 AEM practice on Adobe Experience in support of Age Discrimination story collection project\\n03-06 story collection AEM login\\n03-06 AIW dates and follow up with AD team from The Hartford.\\n03-06 Sweepstakes follow up; review inputs from AARP sweeps team and agency partner direction.\\n03-06 Din T. outreach and follow up with AIW team.\\n03-06 EOY ODEI report follow up w/ Connie; next steps for copy and images from ODEI team.\\n03-07 Weekly checkin with Karen Chong on AIW, GQ approvals, 2022 wrap\\n03-07 KC weekly meeting; see notes and send Matric team notes to KC.\\n03-07 AW returns from renewal; follow up with Din and memo to AW on active tasks related to AIW and The Hartford; bios and organize Teams directory and send to AW.\\n03-08 story collection touch base with M\\n03-08 ODEI EOY report with Connie; meet to review images and next steps.\\n03-09 weekly AD/AI touchbase\\n03-09 AIW and the Hartford; finalize planning table, agenda and supporting files and send in front of Hartford regroup meeting.\\n03-09 ODEI EOY report with Connie; copy and image update and next steps for RH.\\n03-10 Story collection weekly meeting\\n03-10 AD engagment list review from MR; AIW follow up with team.\\n03-10 Greg M. call to review RR status and next steps and follow up with team.\\n03-10 Hartford follow up re: attendee size of 105.\\n03-11 ODEI EOY report - copy edits and image organization.\\n03-13 Finalize approvals to launch GQ assets for Golden Flex\\n03-13 GQ update with MR and review link.\\n03-13 AIW pilot with the Hartford; attendee inquiry and next steps.\\n03-14 IPR presentation; build deck and send to CN; follow up call and revisit deck with NYT add and send to CN.\\n03-15 Confirm outstanding handshake issue with AARP social with GQ for Golden Flex launch\\n03-15 Review and coach Julia on process for ODEI AARP performance tracking using 2022 totals as an example to inform direction for 2023 tracking for Q1\\n03-15 Finalize 2022 numbers against Join our Fight, and Mirror/Mirror earned media and social metrics\\n03-15 IPR presentation follow up with CN; need to do notes.\\n03-16 Connie convo re: IPR talking points.\\n03-16 IPR presentation; revisit and finalize and then revisit alternative based on EKW feedback.\\n03-16 Manage final approvals needed for GQ social launch for Golden Flex project\\n03-16 Research Deck slide design\\n03-17 Gtown event review and prezo from CN.\\n03-20 Revisit IPR presentation and notes/TPs and send to Connie.\\n03-20 IPR convo with Connie; revisit prsentation and return to Connie.\\n03-21 IPR TPs and slides; additions and TP edits to Connie.\\n03-22 ODEI EOY report thinking and photog and layout next steps.\\n03-23 RR with Greg M. re: staffing changes.\\n03-24 ODEI EOY report convo with Connie; review  text and images.\\n03-26 ODEI report and image review.\\n03-28 Make progress in updating data into 2022 ODEI report for Karen Chong; send requests for clarifications on data\\n03-28 ODEI report; copy edtis and review and send to CN; follow up during the day and continue to review and organize assets.\\n03-29 Review Connie email and examine photography sources.\\n03-29 Updates to ODEI 2022 wrap report; queries to validate data\\n03-30 Work to finalize 2022 ODEI wrap report\\n03-30 ODEI report; copy and visual alignment and updated bookmap to Connie.\\n03-31 Finalize draft one ODEI 2022 wrap report and share with AARP team\\n03-31 ColorComm follow up with Chloe and Chloe; review notes and planning calendar in prep for wk of 4/3 meeting.\\n04-03 ODEI image review and alignment; audit for print resolution and organize.\\n04-05 ODEI EOY report; Connie meeting and proof copy and return to CN.\\n04-05 ColorComm maerials review in front of Friday, 4/7 meeting.\\n04-05 Bio and external event direction from AARP media team; review from CN.\\n04-06 ODEI EOY report meeting with CN and RH; prep and attend; need to review copy with CN.\\n04-06 Review JPaul copy edits.\\n04-07 Story Collection meeting with Stacie\\n04-07 Colorcomm with Chloes; reconnect; prep and review notes coming out of meeting.\\n04-10 CN and Staci meeting re: EKW 2023 speaking schedule and next steps.\\n04-11 KC weekly reboot; see notes and catch up with MR.\\n04-11 ODEI EOY report - review production updates from R-H.\\n04-13 project planning meeting w/ Karen and Madelyn\\n04-13 ASL follow up and alignment with CN re: ODEI team.\\n04-14 KC meeting re: prior 3 year planning cycle; see notes and begin audit coming out meeting.\\n04-14 EKW event review with EKW and Mendi; Deaf Seniors and engagement review and presentations from Staci W.\\n04-16 2024-2026 planning; audit prior materials and build supporting resource - build out for invoice.\\n04-17 Connie N. weekly call - see notes; events and ongoing support and next steps for ODEI report.\\n04-17 Review internal presentations from CN and Staci and begin to think about format/approach.\\n04-18 Weekly call with Karen to review status checks on 2023 calendar; GQ close out; Mirror/Mirror and sweepstakes planning\\n04-18 Audit monthly Tactic Lead meeting\\n04-18 Followup meeting with Karen to review remaining items on 2023 calendar.\\n04-18 ODEI annual report; R-H and CN reconnect; review design and layout and next steps for moving forward; audit images and supporting content coming out of meeting.\\n04-18 Joyful Signing meeting and follow up with CN and YP re: resource op..\\n04-18 KC weekly - see notes and follow up at 4:30 re: C&I efforts for 2023.\\n04-18 Matrix team meeting; draft agenda and send and particpipate in meeting and take notes.\\n04-19 ColorComm update; review materials and build workbook and return to Chloes.\\n04-19 ODEI report review and convo with CN - finalize and send to Connie.\\n04-19 Touch base with Geben team to review project priorities and materials against the 2023 calendar.\\n04-20 Republica H. ODEI report meeting and review with CN; prep with CN; continue to proof PDF and review with CN; AARP Research follow up re: graphics.\\n04-21 ODEI EOY report followup; MM images and direction; Bayou Classic convo; connie follow up throughout the day.\\n04-21 ColorComm outreach to the team.\\n04-21 CN convo re: events and review templates from Staci W.\\n04-23 ODEI road show deck; review direction from CN and prior decks and organize and begin to think through how to reorganize for FY2023 road shows.\\n04-24 ODEI road show deck; audit prior presentations and build framework and format supporting elements.\\n04-25 Weekly KC meeting - driving; KC and MR and GFlex results and summary memo; connnecting with DA audiences and Hearts & Mind research discussion.\\n04-25 ColorComm meeting with Chloes and follow up.\\n04-25 ODEI road show deck; review Connie’s inputs and begin to revisit.\\n04-25 ODEI EOY report; review updated layout from RH - good job!\\n04-25 Touch base on ColorComm support needs and status check\\n04-25 Review of GQ performance wrap report with Conde Nast team\\n04-25 Weekly catch up with Karen on priority projects and needs for leadership against GQ - Golden Flex performance\\n04-26 Start work on ColorComm project tracking smartsheet\\n04-26 Begin recap and analysis of GQ - Golden Flex content program performance for leadership\\n04-26 Touch base with Geben team on three year strategy tracking and next steps\\n04-26 Weekly catch up with Stacie S. on AD/AI projects with focus on Livable Communities work\\n04-26 ODEI roadshow meeting with CN and ongoing updates.\\n04-26 Agency mapping discussion with CN and Angela.\\n04-26 Gebben meeting and discussion re: content & influencer strategy and alignment with ADSI.\\n04-26 weekly meeting; Geben touch base\\n04-27 ODEI review and edits and discussion with CN; extensive review and incorporation of images and copy.\\n04-27 ODEI Road Show deck; ongoing edits and discussion with CN.\\n04-27 Finalize GQ data for leadership writeup on campaign performance; incorporate into writeup and share for internal review\\n04-27 Source and upload final video files of GQ for repurposing on AARP social channels\\n04-28 ODEI roadshow deck and edits; ongoing.\\n04-28 GQ write up; review and edits to MR piece and send.\\n04-28 Training modules\\n04-30 ODEI roadshow deck edits and updates to CN.\\n05-01 Review edits to GQ project recap; conduct final write through\\n05-01 ODEI road show deck updates and revisions throughout the day; history, etc.\\n05-01 KC conversation and follow ups with MR.\\n05-02 ODEI Roadshow follow up with CN.\\n05-02 Workplace Harassment training module\\n05-02 computer onboarding\\n05-02 meeting with Stacie and Madleyn for AD story collection\\n05-03 Story Collection: found, inputted and reached out to 3 potential stories; sent draft report\\n05-03 SDA annual conference meeting with YP and CN; review notes and follow up with Joyful Signing.\\n05-03 AD story collection meeting with Stacie and M\\n05-04 Weathering AARP event; see notes; really interesting and to inform EKW TL efforts.\\n05-04 R-H/CN review of ODEI EOY report; inputs and follow up with team.\\n05-04 KC convo re: AW departure and next steps for planning.\\n05-04 ODEI roadshow edits - be sensitive to all characters in alphabet.\\n05-05 Recording stories for story collection\\n05-05 ODEI EOY report edits from CN and to R-H.\\n05-05 ODEI roadshow design follow up with AG.\\n05-05 Asset review for creative exploration of PPT deck directions\\n05-06 ODEI 2022 EOY report review and design edits/inputs.\\n05-08 ODEI 2022 EOY report review and input to R-H.\\n05-08 Review and clean up story collection sheet; update tracking update for Melissa and Kristen; route to Stacie for review\\n05-08 Revisit projections against Allure Mirror/Mirror campaign and followup with AARP team on next steps and recommendations\\n05-08 Check in on sweepstakes feedback for Allure / Mirror/Mirror\\n05-08 DSA advert; review and share with Joyful Signing team.\\n05-08 Revisit ODEI PPT styles for Roadshow Deck\\n05-09 AD story collection\\n05-09 KC weekly meeting - see notes and next steps for C&I effort.\\n05-09 CN convo re: DSA ad, ODEI report and EKW presentation.\\n05-09 AARP E-Team copy edits; review and follow up with CN.\\n05-09 DSA ad review and inputs to R-H team and Yvette P.\\n05-09 Weekly touch base with Karen to review next steps on project plan for IHMEI data release; Mirror/Mirror - Allure media plan discrepancies; ColorComm planning and support for Chloe M. and Chloe D.\\n05-09 Finish updates to recommendations for Allure media plan format for meeting with Allure 5/10\\n05-09 Review project materials\\n05-10 DSA ad review.\\n05-10 Staci W. and CN presentation review and alignment.\\n05-10 ODEI EOY report; reconciling E-team edits.\\n05-10 Update IHMEI life expectancy data smartsheet plan; circulate to Karen and team against Geben strategy\\n05-10 Touch base with Conde Nast contact to sort out updates needed for Allurre media plan\\n05-10 email responses to story submissions\\n05-11 CN discussion re: ODEI report and presentation for EKW and next steps.\\n05-11 May 11 in person meeting for 2024-2o26 strat plan; see notes; prep and attend and debrief.\\n05-12 ColorComm meeting\\n05-12 ColorComm meeting; review next steps with Chloes and Alluvus team.\\n05-12 KC convo re: strat plan notes and next steps.\\n05-12 Proof ODEI report and incorporate copy changes and send to CH and R-H team.\\n05-12 ODEI evolved presentation discussion with AG.\\n05-12 AD story collection\\n05-12 ODEI Deck review w Jim\\n05-12 ODEI Roadshow Deck design updates\\n05-13 May 11 team notes; continue to input and organize with strat. plan direction.\\n05-15 KC Monda meeting re: ADSI three-year plan; see notes and continue review of materials; prep and attend.\\n05-15 ColorComm convo with MR re: meeting with Chloes.\\n05-15 LMS task force team meeting; see notes re: HTF W&J efforts.\\n05-15 Strategy document and reveiwing workbook; provide input and send to KC and SW in advance of Tuesday follow up.\\n05-15 AD story collection\\n05-15 Attend ColorComm planning media with Cole Media to discuss panel directions and goals\\n05-15 Revisit patterns on ODEI Roadshow deck design\\n05-16 ADSI 2024-26 planning; prep for call; send materials and attend.\\n05-16 ODEI annual report; R-H final review and proof and send to team for review and input.\\n05-16 ColorComm convo and debrief with MR re: aligning agency support.\\n05-16 CN conversation re: ODEI EOY report and changes to pp 5 and 12.\\n05-16 ColorComm: build dropbox folder of Mirror/Mirror and other relevant materials for panel discussions and share with Cole Media team\\n05-17 ODEI EOY report edits to RH per CN’s inputs/observations.\\n05-17 weekly touch base with Stacie\\n05-17 R-H meeting and review of ODEI report with some final changes.\\n05-17 HHF event brief and TPs for Yvette; research and revise and return to Yvette and team.\\n05-17 story collection\\n05-17 Weekly touch base with Stacie S. to cover status on AD story collection and project updates on livable communities work\\n05-17 ColorComm material review\\n05-17 ODEI Roadshow deck design revisions\\n05-18 ODEI edits to R-H; follow up at AARP with CN; DEI definitions to CN.\\n05-18 EKW presentation; audit and research for 2023 TL presentation.\\n05-18 AD story collection\\n05-18 story collection\\n05-18 ColorComm: start reboot of budget tracker against event deck and planning\\n05-19 ColorComm: finalize updates and directions for collateral and event planning deck\\n05-22 Catch up with KChong and SWeber on three year planning discussions and statuses\\n05-22 Follow-ups with Chloe D and M on ColorComm collateral support and planning deck\\n05-22 Story collection\\n05-22 Latino magazine follow up with Yvette and CN.\\n05-23 Story collection tracking + weekly update\\n05-23 Touch base with Geben team on priorities for IHME data report process; GQ video repurposing project status\\n05-23 Touch base with Allure team to schedule kick off team with AARP research and partners\\n05-23 ColorComm review and reset deck against collateral needs; Outreach to print vendor partners for estimates\\n05-23 Gebben meeting re: 2023 C&I planning and pending deadlines; IHME discussion.\\n05-23 Review IHME TPs from Jenn and Gebben.\\n05-23 Review meeting invitations from Mendy - nursing panel; Latino mag event follow up.\\n05-24 Schedule followups to kick off Allure / Mirror/Mirror work; Greg M kickoff meeting on Infonet support needs; Catch up with Diane R. on AD story collection work\\n05-25 weekly meeting with Stacie\\n05-25 Weekly touch base with Stacie S. on Livable communities project status, AD story collection planning, next steps on IHME report planning\\n05-25 ODEI report proof and send to AARP print team - need to confirm.\\n05-25 Stacie S. and team content call re: AD stories and managing inputs.\\n05-25 KC remarks email and follow up.\\n05-25 ColorComm event direction with MR and AG; need to see some ideation; talked it through with the team.\\n05-25 AD story collection follow ups and tracking\\n05-25 ColorComm working session call\\n05-25 ColorComm material review\\n05-26 ODEI EOY report proofing with AARP print team.\\n05-30 ODEI EOY report - final proof and send to printer and CN.\\n05-30 Finalize planning deck for creative meeting with ColorComm ODEI project team\\n05-30 ColorComm and Latino magazine TPs and events review.\\n05-30 story collection\\n05-30 Begin reboot for 2023 plan for C.Yeh social accounts\\n05-31 ColorComm event collateral catch up\\n05-31 Finalize updates to project plan for 2023 social for C.Yeh; review with internal team for next steps\\n05-31 Touch base call with ColorComm event team and update deck to apply feedback and next steps for collateral and org chart\\n05-31 Build creative brief for ColorComm collateral and support\\n05-31 Internal planning discussion to review creative brief and next steps\\n05-31 weekly story update and tracking\\n05-31 CC meeting with Chloes; creative review with team; review creative brief.\\n05-31 ODEI EOY report follow up with printer and team.\\n05-31 ColorComm Creative touch base call internal\\n05-31 ColorComm material review\\n06-01 weekly AD/AI touch base\\n06-01 touch base with Stacie on AD story collection\\n06-01 Hariette Cole Media meeting re: CC messaging and TPs - see notes and Q&A from team.\\n06-01 Stacy S C&I weekly - see notes and review tasks for the month and follow up with team.\\n06-01 Infonet and DEI Council resource discussion with Greg M.; follow up with MR.\\n06-01 Connie follow up re: meeting and ODEI report.\\n06-01 observations on story collection process\\n06-01 ColorComm event - stage design and material design iteration\\n06-02 Story responses + story collection\\n06-02 ColorComm creative design explorations\\n06-02 IHME kick off meeting with all parties - see notes.\\n06-02 ODEI print and production follow up.\\n06-02 PRI-CCN event touch base and review with Mendy, Staci W and CN.\\n06-04 KC blurb for ATL event; continued research around TL directions for KC.\\n06-05 Create project brief against meeting notes for DEI Council InfoNet page project; confirm access to Teams folder and follow-up with KChong on InfoNet training request\\n06-05 Schedule call with print vendor to review ColorComm needs\\n06-05 Reschedule weekly touch base with Karen from Tuesday to Friday afternoon\\n06-05 Pull in resources on FemTechAging webinar and opportunity to repurpose content in partnership with Geben\\n06-05 Review Yvette email re: DSA and follow up with Connie.\\n06-05 ColorComm follow up with MR; review creative brief and begin to think through framing.\\n06-06 touch base with Diane on story collection\\n06-06 AD story collection tracking and weekly update\\n06-06 Touch base on creative concepts; review print needs with vendor; follow-up creative discussion on next steps\\n06-06 Meet with Diane R. and Stacie S. on updates around AD Story collection; strategic goals; and next steps\\n06-06 DSA Talking points conversation with CN; format and begin to prepare notes.\\n06-06 CN meeting re: ODEI TPs for current issues and begin audit.\\n06-06 ColorComm event - deck frame-up for internal team\\n06-07 weekly w/ Stacie Sampson\\n06-07 Weekly project touch base with Stacie around AD Story collection; ColorComm planning; AIM webinar status; DA Classroom upcoming trainings\\n06-07 Followup recap of notes from AD Story Collection meetings\\n06-07 C. Yeh social work\\n06-07 Organize meeting notes from IHME data report meeting on Friday, June 2. Build project brief against updates and reflect updates in SmartSheet project tracker. Distribute to small team to review (Karen Chong and Stacie Sampson).\\n06-07 ColorComm creative review and follow up with team.\\n06-07 ODEI input re: LGBTQ and TPs related to other issues.\\n06-08 C. Yeh LinkedIn audit\\n06-08 Prepare agenda for weekly project check in with Karen\\n06-08 Create smartsheet for DEI Council page project for internal review\\n06-08 Schedule Allure kick off call\\n06-08 Followup with print vendor on estimate request; revisit deck and other vendor options\\n06-08 Review brand guide for ColorComm\\n06-09 Incorporate relevant Mirror/Mirror data and reports into ColorComm shared document.\\n06-09 Quick project touch base with Karen on priority items for speaker blurb, IHME report next steps\\n06-12 C. Yeh social posts\\n06-12 DSA remarks - initial research and direction and discuss with CN.\\n06-12 CN follow up re: ODEI report and L-Team distribution.\\n06-13 AD story collection\\n06-13 project update meeting with Karen\\n06-13 KC weeky meeting - see notes; prep and attend and debrief.\\n06-13 DSA event remarks; ongoing research and development.\\n06-13 ColorComm - Gather creative assets for team\\n06-14 AD story collection and weekly update\\n06-14 Violence training module\\n06-14 DSA remarks - ongoing edits, reviews and revisions. Send to CN for review and input.\\n06-14 KC request for women in the workplace; research and develop and send.\\n06-14 DEI Council infonet resource discussion with MR.\\n06-14 Follow up research with focus on women working longer and workplace trends; send to KC.\\n06-15 C. Yeh LinkedIn social work -- built out tracking table, updated audit doc\\n06-15 project updates meeting with Stacie\\n06-15 Color Comm meeting\\n06-15 Stacy S. weekly - see notes and revisit Smartsheet and discuss with Alluvus team.\\n06-15 Ongoing women in the workplace trends research; revisit blurbs and send to KC.\\n06-16 DSA remarks; review and incorporate Connie inputs; audit HHS nat. caregiver strategy and send updated TPs with resources to CN and Yvette.\\n06-16 ColorComm creative review with ODEI team and Alluvus.\\n06-19 DSA remarks review with Connie and send to team with supports.\\n06-20 weekly project touch base with Karen\\n06-20 KC weekly meeting - see notes.\\n06-20 IHME follow up with MR; review notes.\\n06-20 ColorComm - draft 10x10 stage backdrop designs\\n06-21 DSA remarks - review EKW and YP inputs and revise; audit demo and org info and send to CN in advance of meeting.\\n06-21 DSA follow up with CN; MS Teams meeting and discuss next steps.\\n06-21 DEI Council Infonet discussion with MR and GM.\\n06-22 AD story collectioin\\n06-22 DSA remarks with CN; prep and address inputs and confirm as part of MS Teams meeting.\\n06-22 ColorComm - project tracking, asset organization, review creative brief\\n06-22 ColorComm - Draft PDF with creative directions for Ponce de Leon room assets\\n06-23 weekly project meeting with Stacie\\n06-23 ColorComm - Revise designs for Ponce De Leon room assets\\n06-26 DSA touch base with Connie N.\\n06-26 IHME report - begin review and analysis of ETan inputs and OGC observations.\\n06-26 ColorComm inputs from ODEI team - review.\\n06-26 ColorComm - draft designs of 3’ x 3’ cubes\\n06-26 ColorComm project tracking\\n06-27 IHME data - meeting with ET and team - see notes; analyze TPs and “box 3” to help with comms strategy.\\n06-27 DSA follow up and correspondence review.\\n06-27 ColorComm materials dev discussion with AG.\\n06-27 AD story collection\\n06-27 ColorComm - update design files for 3’ x 3’ cubes.\\n06-28 Gebben meeting to review all active tasks - see notes; content strategy review with Gebben; follow up with MR.\\n06-28 Review Erwin T. IHME fact sheets for TX and cover letter.\\n06-28 AD story collection update\\n06-28 ColorComm - Revise 3’ x 3’ box designs\\n06-28 ColorComm - foamcore signage initial drafts\\n06-28 ColorComm - Mock up 2 pillow caser/zip screens\\n06-29 weekly project updates meeting with Stacie; ColorComm meeting\\n06-29 Stacie weekly - see notes; prep and attend.\\n06-29 ODEI colorcomm materials review with Chloe R and follow up with Alluvus team.\\n06-29 KC weekly meeting - see notes with focus on Gebben/Stacie convos and IHME data.\\n06-29 IHME data - continue to review and think through framing.\\n06-29 ColorComm - Edit foamcore signs with approved headshots / revised designs\\n06-30 IHME - audit 100-year-life video and use to inform IHME framing; continue examination of content and build supporting resource.\\n06-30 JP budget invoice review meeting; prep and attend; mid-year goals for JP.\\n06-30 ColorComm excerpts from ODEI report; audit and send to team.\\n06-30 ColorComm - edit headshots for foamcore signage\\n06-30 ColorComm - revise PDF layout with updated design concepts for Chloe\\n07-05 Review latest drafts of C.Yeh social content; discuss sourcing and review feedback with Julia\\n07-05 AD story collection email responses and weekly update\\n07-05 Pull brand guide directions for creative team to finalize ColorComm assets\\n07-05 ColorComm: review and outline edits for creative assets and project coordination with Chloe M.\\n07-05 ColorComm - Revisit 10x10 stage backdrop, 3’x3’ cubes, pillowcase signs\\n07-05 ColorComm materials review and input to the team; follow up with team on event bible.\\n07-05 IHME fact sheet review and follow up with Erwin; review TX state fact sheet and discuss with MR.\\n07-06 weekly project call\\n07-06 ColorComm: review final draft assets with Chloe; touch base with design on brand parameter notes; Update budget sheet and distribute for Chloe's review with Edna\\n07-06 ColorComm - revise PDF containing creative directions for room assets\\n07-06 ColorComm cathup call w Chloe Redmond\\n07-06 Stacie weekly with MR - see notes; prep and attend and debrief with MR.\\n07-06 PayTech event email review from MR.\\n07-06 AIW  Toyouta facilitator coordination and follow with AW.\\n07-06 ColorComm materials input from AARP brand; follow up and address with team.\\n07-07 ColorComm - finalize and organize design files for Shawn @ SpeedPro\\n07-07 AIW Toyota facilitator follow up and review material with AW.\\n07-07 Final review and confirm delivery of materials to production with MR and aG.\\n07-07 Joy of Signing outreach in advance of all agency meeting.\\n07-07 Connie catch up re: all things ODEI - see notes.\\n07-07 ODEI touch base with Angela re: placemeat and all agency meeting support; review agencies and begin to build out content for placemat.\\n07-10 Work on July 18 meeting presentation around DEI trends and how Alluvus is helping clients in this space\\n07-10 Touch base with print vendor to finalize ColorComm print details.\\n07-10 ColorComm connect to review questions for panel discussions; and plans to coordinate with speakers; graphic needs for main stage panel\\n07-10 Project status report to Diane R. on status of Allure engagement; follow-ups with Allure team on event kick-off call planning\\n07-10 ODEI all agency meeting prep - research and organize presentation thoughts.\\n07-10 Agency placemat; audit agencies and build supporting cahrt.\\n07-10 AD story collection\\n07-11 Geben catch-up meeting\\n07-11 Catch up on plans for Uncheck the Box onsite meeting\\n07-11 Project planning reset on IHME data report distribution; Revisit plans against national report and state fact sheets\\n07-11 Staci W. email and review note from Connie - give it some thought.\\n07-11 Gebben biweekly with Alexis - see notes.\\n07-11 Prep for ODEI agency meeting; DA resources and perspective; meet with MR.\\n07-11 ODEI all agency day deck; continued edits and evolving the presentation; incorporate resources, update and send to MR.\\n07-11 ColorComm: review and update main stage panel slide; share with Chloe M. for review\\n07-11 Followup review of Uncheck the Box presentation\\n07-11 AD Story Collection 7/1 - 7/7\\n07-11 ColorComm - Mainstage panel walk-on slide design\\n07-12 Place order for signage stands for ColorComm; review and provide notes to panel questions\\n07-12 Create Mirror/Mirror planning sheet for discussion with Alicia; review and cleanup updates to AD/AI 2023 full calendar\\n07-12 ColorComm - Mainstage panel walk-on animation exploration\\n07-12 Latino event recording for EKW; review emails and site and draft remarks; meet with Connie and Veronica and finalize and send and revisit remarks during the day.\\n07-12 Placemat and agency project review with CCW.\\n07-12 Latino event recording follow up with team; review final remarks, archive and coordinate recording as needed.\\n07-13 Additional work on Uncheck the Box presentation\\n07-13 Team call to review next steps on IHME data report and internal distribution with Nobody and internal AARP team members\\n07-13 Mockup neon sign request for ColorComm for a reference point for internal teams\\n07-13 Show example and reference for feedback on walk-on graphics for ColorComm\\n07-13 IHME follow up with Stacie re: internal comms for August; nobody meeting and next steps coming out of meeting.\\n07-13 Stacie weekly with MR - see notes.\\n07-13 AW project mgmt meeting; see notes and review Smartsheets and all active tasks; follow up on next steps for AIW.\\n07-14 ColorComm - Mainstage panel walk-on graphics, animation revisions\\n07-14 Smithsonian follow up to EKW; review Q&A and confirm all set.\\n07-14 IHME report review from nobody; review and disucss with MR.\\n07-14 ColorComm follow up - materials, signage and playbook review and discussion and revisoins with team.\\n07-14 Placemat review and edit from CCW; finalize and send to Angie.\\n07-16 Review and follow-up with Erwin on IHME data edits / recommendations for National report\\n07-16 Ongoing edits and review of PPT in front of ODEI all agency meeting.\\n07-17 Additional edits for slide 10 of uncheck the box presentation\\n07-17 Review Mirror/Mirror research question from Allure; pull sourcing and reference data and provide examples for team to inform branded article write-up.\\n07-17 Allure/Mirror/Mirror: Review initial article outline and provide notes, direction from Research. Share along with logo on event page for AARP internal team review and feedback.\\n07-17 IHME data touch base with Erwin to discuss feedback to National report; and directions for powerpoint slides.\\n07-17 Circulate logo usage on Allure event page to Brand team; Review talent deck for vetting with AARP teams\\n07-17 Tweak ColorComm walk-on graphic slides; Share with client for review\\n07-17 Prep for ODEI all agency day; ongoing presentation review; agency chart to Angela and organize in front of meetings.\\n07-17 E. Tan meeting to review IHME data and provide POV; review reports and provide input; audit 100-year-life and life expectancy data in front of meeting.\\n07-18 Review and provide feedback on Allure talent; Brand review of logo\\n07-18 All agency meeting: uncheck the box day 1\\n07-18 ODEI all agency team meeting day one - see notes.\\n07-19 Organize talking points and past presentations for K. Chong speaking opportunity with American Property Casualty Insurance Association\\n07-19 ODEI all agency meetings - day two. See notes.\\n07-19 E. Tan meeting - prep and attend with MR.\\n07-19 AD story collection responses\\n07-20 ODEI all agency day; review notes and organize flip charts; follow up w Stacie S. re: “6”\\n07-21 AD story collection\\n07-21 Colorcomm followup with team to confirm deliveries and items.\\n07-21 Table six notes from ODEI all agency; review and draft and input.\\n07-24 Table six notes and organize other tables.\\n07-24 ColorComm follow up with Chloe and MR.\\n07-25 KC weekly; review 24-26 docs, build binder and prep for meeting.\\n07-25 AARPI call with KC and Jeff G - see notes.\\n07-25 Review and organize IHME content and notes and begin presentation dev.\\n07-25 Matrix team meeting; attend and see notes.\\n07-26 Workplace Harassment training module\\n07-26 AD story collection weekly update\\n07-26 On-site at AARP with KC and DR to prepare for ADSI 24-26 prezo; prep and attend and see notes.\\n07-26 IHME presentation - audit and begin development of prezo and follow up with E. Tan.\\n07-27 E. Tan prezo; ongoing review and revisions; finalize and send with notes to E. Tan.\\n07-27 Agencies Placemat - design tweaks\\n07-27 Finalize Allure event talent rankings\\n07-27 Review and provide notes to Allure branded article outline\\n07-27 ADSI 2024-26 - meeting notes and build grid/format.\\n07-27 ODEI all agency placemat edits with AG.\\n07-28 Ongoing inputs to ADSI 24-26 strategies and tactics; review supporting docs and finalize and send to KC and DR; discuss with MR.\\n07-31 Update IHME report slides; distribute back to Erwin and Karen/Stacie for review\\n07-31 Touch base call with Karen to review notes to strategy / 3YP; Review IHME slides\\n07-31 Review Research's notes on Allure article outline; Share with Conde Nast team\\n07-31 KC conversation re: ADSI - begin revisions to 24-26 plan coming out of meeting. see notes.\\n08-01 Ongoing ADSI 24-26 plan talking points and research; KC weekly - see notes and ongoing updates to plan.\\n08-01 Weekly meeting with Karen with focus on reviewing ADSI talking points\\n08-01 Review edits to ADSI talking points; provide notes to discuss/review internally\\n08-02 Ongoing ADSI 24-26 plan edits and research incorporation; send to KC and DR and team.\\n08-02 training module\\n08-02 AD story collection\\n08-02 Age inclusion weekly meeting on priorities around IHME, Mirror/Mirror external relations and other project statuses across AD/AI\\n08-02 Additional data points with focus on diagnosis data; audit ageism study on total costs and incorporate additional resources and send to KC; build bullets for use in slides and confirm receipt.\\n08-03 AD story collection\\n08-03 weekly update with Stacie\\n08-03 Support across meeting follow-ups and calendar coordination on key projects for IHME and Mirror/Mirror\\n08-03 Additioanl TP research for KC; finalize and send with additional diagnosis research and resources.\\n08-03 Toyota scheduling review from AW.\\n08-04 Review and process final input on Allure Mirror/Mirror branded article outline; Share with Allure team\\n08-04 IHME report review from Erwin; next steps for comms plan and execution.\\n08-07 All Agency Placemat - content edits and minor design tweaks\\n08-07 Rainbow chart edits; review and follow up with AG.\\n08-08 AD story collection\\n08-08 Rainbow chart with AG; follow up and review edits and share with Angela and confirm; close out.\\n08-08 Ongoing review and curation of DA/ADSI 2021-23 resources and share linke with MR.\\n08-08 Chloe ColorComm debrief; discuss event and lessons learned and after action report; follow up with MR.\\n08-08 Catch up on ColorComm outcomes and insights from event\\n08-08 3Y reporting planning and organization of data and materials\\n08-09 AD Story responses\\n08-09 Ongoing audit and updates to aDSI 2021-23 resources and provide update to MR.\\n08-09 Update and organize next step Mirror/Mirror needs\\n08-09 Follow up review and next steps on 3Y data collection\\n08-10 AD weekly update\\n08-10 weekly project touch base with Stacie\\n08-10 3 Year Reporting check-in meeting\\n08-10 DEI story meeting with AARP Eteam comms steam and CN; prep and attend.\\n08-10 Ongoing prep in front of AARP team meeting; meet with team to review ADSI 21-23 direction and follow up with MR.\\n08-10 IHME release meeting with Erwin and team; review materials and next steps for August internal comms.\\n08-10 AARP weekly AD/AI touch base; review with Stacie needs for ACPIA talk for KC\\n08-10 Internal touch base on 3Y planning\\n08-10 Team touch base with AARP on directions and next steps for 3Y reporting\\n08-10 Touch base with Erwin and AARP on next steps for IHME report data release\\n08-11 Audit notes from 8/10 meeting with CN and AARP eteam comms team; build supporting doc and research artists and ceramic egg.\\n08-11 Follow up with MR re: next steps for 21-23 ADSI narrative and supporting docs.\\n08-11 Mirror/Mirror 5year trend discussion with AARP research team to explore concepts and opportunities\\n08-14 ADSI narrative follow up with MR; initial thinking re: narrative.\\n08-16 AD story collection + weekly update\\n08-17 weekly touch base with Stacie\\n08-17 Quid demo day; see recording.\\n08-18 AD story collection\\n08-21 AD story collection + weekly update\\n08-21 CN meeting; see notes; next steps for DEI story and prep for TH meeting; org chart discussion; TPs and catch up.\\n08-21 KC event prezo review from MR; review and provide inputs and sourcing with focus on multigen workforce.\\n08-22 weekly projects update meeting\\n08-22 AD story collection email follow ups\\n08-22 IHME deck design review\\n08-23 ADSI narrative; prep in front of meeting with MR; meet and see notes; examine construct for organizing how to think about ADSI.\\n08-23 Speaker review and organize for Connie and CSN Nov. event.\\n08-23 KC prezo with AG and MR.\\n08-23 IHME prezo review with AG and MR.\\n08-23 ACPIA webinar deck - initial design edits\\n08-23 Revisit IHME deck design\\n08-24 DEI story for ODEI; prep for meeting; organize notes and print out and attend; debrief with Connie and see notes.\\n08-24 Ongoing ADSI narrative thinking with MR; think thru creative direction.\\n08-24 Toyota AIW session; monitor Oct. schedules and revisit MS Teams resource\\n08-24 Netbase Quid prezo review and demos in support of DEI monitoring system.\\n08-24 ACPIA webinar deck design edits\\n08-25 Review AG prezo for KC and provide input; run-through slides.\\n08-25 IHME prezo; review slides and provide input.\\n08-28 Plumbing chart and ADSI data viz; build copy document; audit creative sources and send to CCW and MR.\\n08-28 ADSI report/continue to review content and build narrative; audit DA book and build supporting table.\\n08-28 AD story collection\\n08-28 Touch base with APCIA team to run through technical elements of 8/29 presentation\\n08-28 Small-team meeting with Stacie and Karen to review feedback to APCIA Courageous Conversation slides\\n08-28 Update APCIA Courageous Conversation slides and return to AARP team for final review and feedback\\n08-28 Follow-up and verification of IHME slides for RVP presentation with Erwin Tan on 8/29\\n08-28 Outline DEI council infonet page direction\\n08-29 weekly projects meeting; story collection\\n08-29 Attend and audit APCIA webinar presentation by Karen Chong to employees re: the intersectionality of ageism.\\n08-29 Follow-up on final edits / feedback for Allure branded article\\n08-29 Ongoing audit of 21-23 ADSI efforts; refine narrative and build supporting timeline; audit media coverage and incorporate links; follow up with team.\\n08-29 KC weekly meeting - see notes.\\n08-29 Weekly project updates; discuss final needs for IHME and 3Y reporting\\n08-30 Follow-ups on final ColorComm performance metrics\\n08-30 Follow-up on IHME data for final distribution needs\\n08-30 Touch base with Allure contact regarding project management process\\n08-30 Review Allure talking points for Best of Beauty event and provide feedback\\n08-31 weekly projects touch base with Stacie\\n08-31 Touch base with Stacie regarding upcoming speaking engagements; Mirror/Mirror; and needs for IHME data thought leadership\\n08-31 Touch base call to review initial infonet outline; next steps for draft; opportunities to utilize SmartSheet for upcoming ERG planning in October\\n08-31 Ongoing notes transcription for tables in support of report.\\n09-01 Request for access for ODEI infonet page edit access\\n09-01 Final table notes and after action report for ODEI all agency meeting.\\n09-01 Review feedback to Allure Best of Beauty event talking points; send to Conde Nast; verify handshake access with AARP social team\\n09-05 Build draft of DEI Council page for internal review and discussion\\n09-05 Follow-up with Erwin re: IHME data events and time to touch base\\n09-05 Review Allure branded article v2; distribute and track updates / timeline for team feedback, approval, and outstanding items\\n09-05 ODEI fall events for EKW; review and begin to build supporting TPs.\\n09-05 Ongoing additions and edits to ADSI planning; build narrative and ID supporting exhibits.\\n09-06 Weekly team meeting with Karen: discuss IHME report next steps with Erwin, outstanding items/needs for 3Y plan reporting, status check/update on Mirror/Mirror x Allure items\\n09-06 Review and provide notes to Mirror/Mirror AARP page copy\\n09-06 Work on 3year reporting table, examining milestones by year and tactic.\\n09-06 Draft option for Mirror/Mirror Best of Beauty Allure event card for Alicia to review\\n09-06 KC weekly meeting - see notes; Q3 updates and ADSI summary report next steps.\\n09-06 IHME meeting with E. Tan re: next steps coming out of IHME release - see notes.\\n09-06 Ongoing updates to chart and reach out to CCW; continue to work on sorting and building narrateve.\\n09-07 Weekly touch base with Stacie on AD/AI project; review status of the three year reporting work, next steps for PayTech slides for Karen, closing out Livable communities work, and follow-ups for AD Story Collection work completion\\n09-07 AW meeting prep; build calendar and add dates and share with MR.\\n09-07 Ongoing updates to ADSI narrative and review meetings and next steps.\\n09-07 Ongoing DEI agency meeting and notes; DEI audit follow up.\\n09-08 DEI council infonet page follow up with MR.\\n09-08 Ongoing review and audit of DEI history notes; build document and edit and audit.\\n09-10 Ongoing audit of AARP DEI history and continue to think it thru.\\n09-11 Incorporate Research edits to Allure Mirror/Mirror branded article; send reminder to team\\n09-12 Touch base with Geben to review status and feedback needed for three year strategy reporting\\n09-12 Weekly projects update meeting with Karen: discussed Mirror/Mirror Allure article, IHME,\\n09-12 Weekly project touch base with Karen: status update on final draft of Allure Mirror/Mirror article and event planning for Best of Beauty; Next steps for IHME report graphics for Nobody and follow-ups with Geben for leadership social content; Status on Paytech slides for 9/21 rehearsal\\n09-12 Continue to update three year strategy raw data sheet\\n09-12 Ongoing audit and prep in front of meeting with CN; continue to build out notes; finalize working draft and prep for meeting with CN.\\n09-12 On-site meeting with CN to review DEI history and discuss; AARP library visit re: sources.\\n09-12 KC weekly - see notes; prep and send ADSI direction to MR with CCW creative directions; Geben meeting re: social media outcomes.\\n09-13 Build out Paytech slides for Karen Chong, draft one\\n09-13 Reach out to Nobody for LinkedIn graphics / graph files\\n09-13 Touch base with Holly Biglow to recap tactical outcomes for 4A\\n09-14 Weekly touch base with Stacie for updates on Livable communities; Paytech slides for KChong; and scheduling follow-up to review LEAP and AIM presentation opportuntiies\\n09-14 Review Paytech slides\\n09-15 Paytech Slides - Initial design edits\\n09-15 Reach out re: egg; continue to review all agency notes and consider direction; LLM discussion with Liam\\n09-18 Draft one of Alicia Wallace project sheets\\n09-18 Review and provide feedback to Paytech slides\\n09-18 Route final assets for Mirror/Mirror x Allure launch\\n09-18 Continue with transcription of notes and review table notes and think through report out\\n09-19 Draft two Paytech slide updates and meeting reschedule\\n09-19 Follow-up call to review DEI Council infonet page with Greg\\n09-19 Project management call with Alicia to review SmartSheet process and feedback; Follow-up with outline of action items\\n09-19 AW PM convo - see notes and review all active tasks and follow up with MR.\\n09-19 Greg M. and DEI Council infonet page with MR\\n09-20 Transcribing notes and following up with Angela; think through and consider report ou\\n09-20 PayTech prezo review with team; context, audit descriptor and provide input\\n09-21 Presentation follow up; see KC inputs and send presentation draft\\n09-21 ODEI all agency notes; continue to transcribe and organize files for Angela and team.\\n09-21 AI review with Leia; ecourse review and implications for DEI\""
      ]
     },
     "execution_count": 23,
     "metadata": {},
     "output_type": "execute_result"
    }
   ],
   "source": [
    "concat_str"
   ]
  },
  {
   "cell_type": "code",
   "execution_count": 16,
   "metadata": {},
   "outputs": [],
   "source": [
    "df['Month'] = df.copy()['Date'].str[:2]"
   ]
  },
  {
   "cell_type": "code",
   "execution_count": 22,
   "metadata": {},
   "outputs": [
    {
     "data": {
      "text/html": [
       "<div>\n",
       "<style scoped>\n",
       "    .dataframe tbody tr th:only-of-type {\n",
       "        vertical-align: middle;\n",
       "    }\n",
       "\n",
       "    .dataframe tbody tr th {\n",
       "        vertical-align: top;\n",
       "    }\n",
       "\n",
       "    .dataframe thead th {\n",
       "        text-align: right;\n",
       "    }\n",
       "</style>\n",
       "<table border=\"1\" class=\"dataframe\">\n",
       "  <thead>\n",
       "    <tr style=\"text-align: right;\">\n",
       "      <th></th>\n",
       "      <th>Date</th>\n",
       "      <th>Notes</th>\n",
       "      <th>Concatenated</th>\n",
       "      <th>Month</th>\n",
       "    </tr>\n",
       "  </thead>\n",
       "  <tbody>\n",
       "    <tr>\n",
       "      <th>0</th>\n",
       "      <td>01-03</td>\n",
       "      <td>Finish required cyber security training</td>\n",
       "      <td>01-03 Finish required cyber security training</td>\n",
       "      <td>01</td>\n",
       "    </tr>\n",
       "    <tr>\n",
       "      <th>1</th>\n",
       "      <td>01-03</td>\n",
       "      <td>ODEI enterprise wide strategy presentation; Co...</td>\n",
       "      <td>01-03 ODEI enterprise wide strategy presentati...</td>\n",
       "      <td>01</td>\n",
       "    </tr>\n",
       "    <tr>\n",
       "      <th>2</th>\n",
       "      <td>01-03</td>\n",
       "      <td>Connie convo re: ODEI EOY report and all thing...</td>\n",
       "      <td>01-03 Connie convo re: ODEI EOY report and all...</td>\n",
       "      <td>01</td>\n",
       "    </tr>\n",
       "    <tr>\n",
       "      <th>3</th>\n",
       "      <td>01-04</td>\n",
       "      <td>Annual report discussion and misc. ODEI with C...</td>\n",
       "      <td>01-04 Annual report discussion and misc. ODEI ...</td>\n",
       "      <td>01</td>\n",
       "    </tr>\n",
       "    <tr>\n",
       "      <th>4</th>\n",
       "      <td>01-04</td>\n",
       "      <td>Golden Flexx update and schedule review with MR.</td>\n",
       "      <td>01-04 Golden Flexx update and schedule review ...</td>\n",
       "      <td>01</td>\n",
       "    </tr>\n",
       "  </tbody>\n",
       "</table>\n",
       "</div>"
      ],
      "text/plain": [
       "    Date                                              Notes  \\\n",
       "0  01-03            Finish required cyber security training   \n",
       "1  01-03  ODEI enterprise wide strategy presentation; Co...   \n",
       "2  01-03  Connie convo re: ODEI EOY report and all thing...   \n",
       "3  01-04  Annual report discussion and misc. ODEI with C...   \n",
       "4  01-04   Golden Flexx update and schedule review with MR.   \n",
       "\n",
       "                                        Concatenated Month  \n",
       "0      01-03 Finish required cyber security training    01  \n",
       "1  01-03 ODEI enterprise wide strategy presentati...    01  \n",
       "2  01-03 Connie convo re: ODEI EOY report and all...    01  \n",
       "3  01-04 Annual report discussion and misc. ODEI ...    01  \n",
       "4  01-04 Golden Flexx update and schedule review ...    01  "
      ]
     },
     "execution_count": 22,
     "metadata": {},
     "output_type": "execute_result"
    }
   ],
   "source": [
    "df.head()"
   ]
  },
  {
   "cell_type": "code",
   "execution_count": 21,
   "metadata": {},
   "outputs": [],
   "source": [
    "df_by_month = df.groupby(\"Month\")"
   ]
  },
  {
   "cell_type": "markdown",
   "metadata": {},
   "source": [
    "### Classifier Function for GPT"
   ]
  },
  {
   "cell_type": "code",
   "execution_count": null,
   "metadata": {},
   "outputs": [],
   "source": [
    "function = {\n",
    "    \"name\": \"classify_invoices\",\n",
    "    \"description\": \"Given an invoice in a string of the format [MM-DD] [Note], classify it into one of the given deliverables.\",\n",
    "    \"parameters\": {\n",
    "        \"type\": \"object\",\n",
    "        \"properties\": {\n",
    "            \"prediction\": {\n",
    "                \"type\": \"array\",\n",
    "                \"items\": {\n",
    "                    \"type\": \"String\",\n",
    "                    \"enum\": [\n",
    "                        \"Deliverable One: Age Discrimination Strategy – Social and Digital Content Strategy including ongoing content and editorial support across the age discrimination strategy and third-party content partnership support.\",\n",
    "                        \"Deliverable Two: Content and Editorial Support for Age Discrimination Strategic Initiative.\",\n",
    "                        \"Deliverable Three: Disrupt Aging/Mirror-Mirror Partnership Support.\",\n",
    "                        \"Deliverable Four: Refinement and Redevelopment of the Workplace Pilot Program.\",\n",
    "                        \"Deliverable Five: Refinement and Redevelopment of the Disrupt Aging Classroom Program with a focus on evolving the program to support AARP state offices.\",\n",
    "                        \"Deliverable Six and Seven: Support Age Discrimination Strategic Initiative with a focus on combatting ageism and informing alignment.\",\n",
    "                        \"Deliverable Eight: Tactical support on an as needed basis.\",\n",
    "                        \"Deliverable Nine: Project management and ongoing administrative support.\"\n",
    "                    ]\n",
    "                }\n",
    "                \"description\": \"The predicted deliverables\"\n",
    "            }\n",
    "        },\n",
    "        \"required\": [\"prediction\"]\n",
    "    }\n",
    "}"
   ]
  },
  {
   "cell_type": "code",
   "execution_count": null,
   "metadata": {},
   "outputs": [],
   "source": []
  },
  {
   "cell_type": "code",
   "execution_count": null,
   "metadata": {},
   "outputs": [],
   "source": []
  },
  {
   "cell_type": "code",
   "execution_count": null,
   "metadata": {},
   "outputs": [],
   "source": []
  },
  {
   "cell_type": "markdown",
   "metadata": {},
   "source": [
    "### Function Calling Testing"
   ]
  },
  {
   "cell_type": "code",
   "execution_count": 5,
   "metadata": {},
   "outputs": [],
   "source": [
    "function = {\n",
    "    \"name\": \"test_function\",\n",
    "    \"description\": \"This is to test if a function works\",\n",
    "    \"parameters\": {\n",
    "        \"type\": \"object\",\n",
    "        \"properties\": {\n",
    "            \"test_response\": {\n",
    "                \"type\": \"string\",\n",
    "                \"description\": \"A response to confirm that the function was called\"\n",
    "            }\n",
    "        },\n",
    "        \"required\": [\"test_response\"]\n",
    "    }\n",
    "}"
   ]
  },
  {
   "cell_type": "code",
   "execution_count": 6,
   "metadata": {},
   "outputs": [
    {
     "data": {
      "text/plain": [
       "<OpenAIObject chat.completion id=chatcmpl-85LVJbwRaiEAhewYJntujPQX28w71 at 0x134ab3710> JSON: {\n",
       "  \"id\": \"chatcmpl-85LVJbwRaiEAhewYJntujPQX28w71\",\n",
       "  \"object\": \"chat.completion\",\n",
       "  \"created\": 1696284993,\n",
       "  \"model\": \"gpt-4-0613\",\n",
       "  \"choices\": [\n",
       "    {\n",
       "      \"index\": 0,\n",
       "      \"message\": {\n",
       "        \"role\": \"assistant\",\n",
       "        \"content\": null,\n",
       "        \"function_call\": {\n",
       "          \"name\": \"test_function\",\n",
       "          \"arguments\": \"{\\n  \\\"test_response\\\": \\\"The test function has been called\\\"\\n}\"\n",
       "        }\n",
       "      },\n",
       "      \"finish_reason\": \"function_call\"\n",
       "    }\n",
       "  ],\n",
       "  \"usage\": {\n",
       "    \"prompt_tokens\": 64,\n",
       "    \"completion_tokens\": 21,\n",
       "    \"total_tokens\": 85\n",
       "  }\n",
       "}"
      ]
     },
     "execution_count": 6,
     "metadata": {},
     "output_type": "execute_result"
    }
   ],
   "source": [
    "content=\"Call the test function\"\n",
    "\n",
    "r = openai.ChatCompletion.create(\n",
    "   model=\"gpt-4\",\n",
    "   temperature=0.0,\n",
    "   messages=[{\"role\": \"user\", \"content\": content}],\n",
    "   functions=[function],\n",
    ")\n",
    "r"
   ]
  },
  {
   "cell_type": "markdown",
   "metadata": {},
   "source": [
    "**Media Advisory **\n",
    "\n",
    "**All-New Dash In and Splash In ECO Car Wash Celebrate **\n",
    "\n",
    "**Grand Opening and Baltimore’s Washington Village Community **\n",
    "\n",
    "\n",
    "    **Event will honor Paul’s Place and Baltimore Green Space as part of Dash In’s Community  Engagement Program focused on Nourishing Children and Families and Reimagining  Outdoor Spaces; Dash In will donate more than $10,000 during the event **\n",
    "\n",
    "\n",
    "        **What: **A day-long celebration of the grand opening of the all-new Dash In and Splash In  ECO Car Wash that also celebrates Dash In’s commitment to Baltimore’s  Washington Village community. The event will feature Dash In and Splash In  leadership honoring Paul’s Place, a 40+ year Baltimore community partner, and  Baltimore Green Space, Baltimore’s environmental land trust. Check presentations to  these organizations and Dash In’s signature ribbon cutting event – the Dash In  quesadilla pull – take place at 1:30 p.m. \n",
    "\n",
    "**Where: 1712 Russell Street (at the Bayard Street intersection) – Baltimore, Maryland When: Friday, September 8 – 1:30 p.m. for ribbon cutting ceremony **\n",
    "\n",
    "\n",
    "    **Event Overview: **Dash In, a Wills Group company, will celebrate the grand opening of the all new Dash In and Splash In ECO Car Wash on Friday, September 8 at 1:30 p.m. with Dash In’s  signature ribbon cutting event – the Dash In quesadilla cheese pull. \n",
    "\n",
    "\n",
    "    The grand opening event celebrates Dash In’s commitment to Baltimore’s Washington Village  community with the grand opening featuring a number of activities: \n",
    "\n",
    "\n",
    "        • A $5,000 grant to Paul’s Place, a leading organization committed to leading change and  improving the quality of life in Southwest Baltimore. \n",
    "\n",
    "\n",
    "        • A $5,000 grant to Baltimore Green Spaces, Baltimore’s environmental land trust  committed to promoting vibrant neighborhoods across the city. \n",
    "\n",
    "\n",
    "        • A $500 donation to the Baltimore City Fire Foundation, focused on providing support to  the families of Baltimore City Firefighters and Paramedics. \n",
    "\n",
    "\n",
    "        • The Oriole Bird will be at the event beginning at 1:00 p.m. followed by a live performance  by the My G.I.R.L.S. All Star Cheer, Tumble and Dance Company at 3:00 p.m. \n",
    "\n",
    "\n",
    "    • Events will also be held throughout the day from 9:00 a.m. to 4:00 p.m. and include: \n",
    "\n",
    "\n",
    "        `o `Food tastings from Dash In’s chef-driven menu which connects Real Food with Real  Flavor and features the freshest ingredients. \n",
    "\n",
    "\n",
    "        `o `Free Splash In ECO car washes from 9:00 a.m. to 12 noon. \n",
    "\n",
    "\n",
    "        `o `Gift bag giveaways featuring a mystery value gift card – gift bags will be limited to  the first 50 individuals who participate with giveaways taking place at 10:00 a.m. and 2:00 p.m. \n",
    "\n",
    "**Dash In executives will be available for interviews at the event. **\n",
    "\n",
    "Learn more by visiting DashIn.com\n",
    "\n"
   ]
  },
  {
   "cell_type": "code",
   "execution_count": null,
   "metadata": {},
   "outputs": [],
   "source": []
  }
 ],
 "metadata": {
  "kernelspec": {
   "display_name": "Alluvus",
   "language": "python",
   "name": "python3"
  },
  "language_info": {
   "codemirror_mode": {
    "name": "ipython",
    "version": 3
   },
   "file_extension": ".py",
   "mimetype": "text/x-python",
   "name": "python",
   "nbconvert_exporter": "python",
   "pygments_lexer": "ipython3",
   "version": "3.11.4"
  },
  "orig_nbformat": 4
 },
 "nbformat": 4,
 "nbformat_minor": 2
}
